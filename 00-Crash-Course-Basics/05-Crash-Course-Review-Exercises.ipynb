{
 "cells": [
  {
   "cell_type": "markdown",
   "metadata": {},
   "source": [
    "# Crash Course Review Exercises "
   ]
  },
  {
   "cell_type": "markdown",
   "metadata": {},
   "source": [
    "** Import numpy,pandas,matplotlib,and sklearn. Also set visualizations to be shown inline in the notebook.**"
   ]
  },
  {
   "cell_type": "code",
   "execution_count": 1,
   "metadata": {
    "collapsed": true
   },
   "outputs": [],
   "source": [
    "import numpy as np\n",
    "import pandas as pd\n",
    "import matplotlib.pyplot as plt\n",
    "import sklearn.preprocessing as skp\n",
    "%matplotlib inline"
   ]
  },
  {
   "cell_type": "markdown",
   "metadata": {},
   "source": [
    "** Set Numpy's Random Seed to 101 **"
   ]
  },
  {
   "cell_type": "code",
   "execution_count": 2,
   "metadata": {
    "collapsed": true
   },
   "outputs": [],
   "source": [
    "np.random.seed(101)"
   ]
  },
  {
   "cell_type": "markdown",
   "metadata": {},
   "source": [
    "** Create a NumPy Matrix of 100 rows by 5 columns consisting of random integers from 1-100. (Keep in mind that the upper limit may be exclusive.**"
   ]
  },
  {
   "cell_type": "code",
   "execution_count": 5,
   "metadata": {},
   "outputs": [],
   "source": [
    "npar=np.random.randint(1,100,(100,5))"
   ]
  },
  {
   "cell_type": "markdown",
   "metadata": {},
   "source": [
    "** Create a 2-D visualization using plt.imshow of the numpy matrix with a colorbar. Add a title to your plot. Bonus: Figure out how to change the [*aspect*](https://stackoverflow.com/questions/10540929/figure-of-imshow-is-too-small) of the imshow() plot. **"
   ]
  },
  {
   "cell_type": "code",
   "execution_count": 15,
   "metadata": {},
   "outputs": [
    {
     "data": {
      "text/plain": [
       "<matplotlib.text.Text at 0x11cafbb38>"
      ]
     },
     "execution_count": 15,
     "metadata": {},
     "output_type": "execute_result"
    },
    {
     "data": {
      "image/png": "[encoded data removed]",
      "text/plain": [
       "<matplotlib.figure.Figure at 0x11ca17e80>"
      ]
     },
     "metadata": {},
     "output_type": "display_data"
    }
   ],
   "source": [
    "plt.imshow(npar,aspect='auto')\n",
    "plt.colorbar()\n",
    "plt.title('Numpy array',fontsize=10)"
   ]
  },
  {
   "cell_type": "markdown",
   "metadata": {},
   "source": [
    "** Now use pd.DataFrame() to read in this numpy array as a dataframe. Simple pass in the numpy array into that function to get back a dataframe. Pandas will auto label the columns to 0-4**"
   ]
  },
  {
   "cell_type": "code",
   "execution_count": 18,
   "metadata": {},
   "outputs": [],
   "source": [
    "df=pd.DataFrame(data=npar)"
   ]
  },
  {
   "cell_type": "markdown",
   "metadata": {},
   "source": [
    "** Now create a scatter plot using pandas of the 0 column vs the 1 column. **"
   ]
  },
  {
   "cell_type": "code",
   "execution_count": 23,
   "metadata": {},
   "outputs": [
    {
     "data": {
      "text/plain": [
       "<matplotlib.axes._subplots.AxesSubplot at 0x11c608278>"
      ]
     },
     "execution_count": 23,
     "metadata": {},
     "output_type": "execute_result"
    },
    {
     "data": {
      "image/png": "[encoded data removed]",
      "text/plain": [
       "<matplotlib.figure.Figure at 0x11c8e34a8>"
      ]
     },
     "metadata": {},
     "output_type": "display_data"
    }
   ],
   "source": [
    "df.iloc[:,0:2].plot(x=0,y=1,kind='scatter')"
   ]
  },
  {
   "cell_type": "markdown",
   "metadata": {},
   "source": [
    "** Now scale the data to have a minimum of 0 and a maximum value of 1 using scikit-learn. **"
   ]
  },
  {
   "cell_type": "code",
   "execution_count": 24,
   "metadata": {},
   "outputs": [
    {
     "data": {
      "text/plain": [
       "array([[ 0.18556701,  0.70408163,  0.        ,  0.79787234,  0.64210526],\n",
       "       [ 0.88659794,  0.28571429,  0.71134021,  0.03191489,  0.01052632],\n",
       "       [ 0.11340206,  0.63265306,  0.25773196,  1.        ,  0.62105263],\n",
       "       [ 0.88659794,  0.75510204,  0.98969072,  0.65957447,  0.97894737],\n",
       "       [ 0.02061856,  0.89795918,  0.59793814,  0.38297872,  0.28421053],\n",
       "       [ 0.30927835,  0.89795918,  0.57731959,  0.07446809,  0.63157895],\n",
       "       [ 0.30927835,  0.13265306,  0.35051546,  0.4787234 ,  0.        ],\n",
       "       [ 0.16494845,  0.51020408,  0.21649485,  0.29787234,  0.35789474],\n",
       "       [ 0.21649485,  0.98979592,  0.51546392,  0.38297872,  0.27368421],\n",
       "       [ 0.03092784,  0.        ,  0.11340206,  0.93617021,  0.        ],\n",
       "       [ 0.06185567,  0.44897959,  0.54639175,  0.5       ,  0.77894737],\n",
       "       [ 1.        ,  0.03061224,  0.31958763,  0.94680851,  0.43157895],\n",
       "       [ 0.06185567,  0.42857143,  0.67010309,  0.07446809,  0.03157895],\n",
       "       [ 0.25773196,  0.67346939,  0.21649485,  0.4787234 ,  0.26315789],\n",
       "       [ 0.46391753,  0.14285714,  0.5257732 ,  0.76595745,  0.54736842],\n",
       "       [ 0.02061856,  0.95918367,  0.36082474,  0.64893617,  0.41052632],\n",
       "       [ 0.17525773,  0.37755102,  0.45360825,  0.85106383,  0.47368421],\n",
       "       [ 0.67010309,  0.98979592,  0.19587629,  0.07446809,  0.89473684],\n",
       "       [ 0.40206186,  0.13265306,  0.96907216,  0.14893617,  0.37894737],\n",
       "       [ 0.88659794,  0.73469388,  0.60824742,  0.80851064,  0.53684211],\n",
       "       [ 0.48453608,  0.84693878,  0.91752577,  0.41489362,  0.86315789],\n",
       "       [ 0.79381443,  0.56122449,  0.71134021,  0.96808511,  0.57894737],\n",
       "       [ 0.87628866,  0.68367347,  0.07216495,  0.4787234 ,  0.71578947],\n",
       "       [ 0.39175258,  0.54081633,  0.04123711,  0.40425532,  0.90526316],\n",
       "       [ 0.58762887,  0.12244898,  0.71134021,  0.03191489,  0.84210526],\n",
       "       [ 0.07216495,  0.6122449 ,  0.58762887,  0.45744681,  0.94736842],\n",
       "       [ 0.86597938,  0.44897959,  0.62886598,  0.39361702,  0.37894737],\n",
       "       [ 0.54639175,  1.        ,  0.81443299,  0.96808511,  0.14736842],\n",
       "       [ 0.37113402,  0.59183673,  0.40206186,  0.74468085,  0.73684211],\n",
       "       [ 0.21649485,  0.42857143,  0.3814433 ,  0.45744681,  0.14736842],\n",
       "       [ 0.5257732 ,  0.17346939,  0.21649485,  0.13829787,  0.16842105],\n",
       "       [ 0.37113402,  0.48979592,  0.01030928,  0.        ,  0.30526316],\n",
       "       [ 0.50515464,  0.79591837,  0.71134021,  0.40425532,  0.61052632],\n",
       "       [ 0.62886598,  0.70408163,  0.34020619,  0.9893617 ,  0.58947368],\n",
       "       [ 0.03092784,  0.71428571,  0.19587629,  0.17021277,  0.67368421],\n",
       "       [ 0.22680412,  0.8877551 ,  0.45360825,  0.65957447,  0.04210526],\n",
       "       [ 0.39175258,  0.29591837,  0.60824742,  0.32978723,  0.16842105],\n",
       "       [ 0.59793814,  0.65306122,  0.59793814,  0.67021277,  0.08421053],\n",
       "       [ 0.87628866,  0.67346939,  0.3814433 ,  0.78723404,  1.        ],\n",
       "       [ 0.80412371,  0.07142857,  0.65979381,  0.5106383 ,  0.53684211],\n",
       "       [ 0.03092784,  0.39795918,  0.        ,  0.03191489,  0.68421053],\n",
       "       [ 0.93814433,  0.51020408,  0.59793814,  0.        ,  0.93684211],\n",
       "       [ 0.13402062,  0.12244898,  0.69072165,  0.90425532,  0.11578947],\n",
       "       [ 0.17525773,  0.04081633,  0.90721649,  0.21276596,  0.4       ],\n",
       "       [ 0.06185567,  0.02040816,  0.84536082,  0.18085106,  0.69473684],\n",
       "       [ 0.90721649,  0.16326531,  0.        ,  0.        ,  0.74736842],\n",
       "       [ 0.65979381,  0.24489796,  0.8556701 ,  0.15957447,  0.2       ],\n",
       "       [ 0.98969072,  0.44897959,  0.36082474,  0.38297872,  0.95789474],\n",
       "       [ 0.31958763,  0.05102041,  0.77319588,  0.18085106,  0.32631579],\n",
       "       [ 0.77319588,  0.41836735,  0.20618557,  0.19148936,  0.54736842],\n",
       "       [ 0.78350515,  0.63265306,  0.03092784,  0.53191489,  0.85263158],\n",
       "       [ 0.55670103,  0.1122449 ,  0.46391753,  0.39361702,  0.94736842],\n",
       "       [ 0.34020619,  0.55102041,  0.49484536,  0.09574468,  0.63157895],\n",
       "       [ 0.10309278,  0.84693878,  0.24742268,  0.31914894,  0.4       ],\n",
       "       [ 0.26804124,  0.30612245,  0.93814433,  0.60638298,  0.88421053],\n",
       "       [ 0.75257732,  0.17346939,  0.70103093,  0.88297872,  0.02105263],\n",
       "       [ 0.04123711,  0.5       ,  0.28865979,  0.41489362,  0.37894737],\n",
       "       [ 0.21649485,  0.45918367,  0.09278351,  0.67021277,  0.78947368],\n",
       "       [ 0.73195876,  0.91836735,  0.81443299,  0.65957447,  0.83157895],\n",
       "       [ 0.19587629,  0.02040816,  0.19587629,  0.54255319,  0.37894737],\n",
       "       [ 0.95876289,  0.5       ,  0.25773196,  0.91489362,  0.2       ],\n",
       "       [ 0.3814433 ,  0.53061224,  0.75257732,  1.        ,  0.17894737],\n",
       "       [ 0.78350515,  0.05102041,  0.71134021,  0.26595745,  0.94736842],\n",
       "       [ 0.05154639,  0.98979592,  0.72164948,  0.22340426,  0.92631579],\n",
       "       [ 0.79381443,  0.86734694,  0.6185567 ,  0.81914894,  0.54736842],\n",
       "       [ 0.56701031,  0.65306122,  0.41237113,  0.62765957,  0.56842105],\n",
       "       [ 0.01030928,  0.87755102,  0.18556701,  0.79787234,  0.03157895],\n",
       "       [ 0.44329897,  0.15306122,  0.7628866 ,  0.72340426,  0.10526316],\n",
       "       [ 0.12371134,  0.94897959,  0.20618557,  0.46808511,  0.27368421],\n",
       "       [ 0.19587629,  0.71428571,  0.13402062,  0.57446809,  0.17894737],\n",
       "       [ 0.80412371,  0.60204082,  0.32989691,  0.32978723,  0.09473684],\n",
       "       [ 0.44329897,  0.43877551,  0.94845361,  0.0106383 ,  0.38947368],\n",
       "       [ 0.78350515,  0.03061224,  0.58762887,  0.5212766 ,  0.31578947],\n",
       "       [ 0.46391753,  0.08163265,  0.08247423,  0.11702128,  0.64210526],\n",
       "       [ 0.59793814,  0.80612245,  0.04123711,  0.32978723,  0.47368421],\n",
       "       [ 0.28865979,  0.80612245,  0.62886598,  0.24468085,  0.43157895],\n",
       "       [ 0.46391753,  0.95918367,  0.69072165,  0.56382979,  0.70526316],\n",
       "       [ 0.41237113,  0.41836735,  0.13402062,  0.4787234 ,  0.01052632],\n",
       "       [ 0.64948454,  0.23469388,  0.81443299,  0.42553191,  0.86315789],\n",
       "       [ 0.89690722,  0.90816327,  0.09278351,  0.80851064,  1.        ],\n",
       "       [ 0.65979381,  0.08163265,  0.13402062,  0.27659574,  0.82105263],\n",
       "       [ 0.16494845,  0.63265306,  0.26804124,  0.32978723,  0.12631579],\n",
       "       [ 0.20618557,  0.25510204,  0.97938144,  0.65957447,  0.86315789],\n",
       "       [ 0.05154639,  0.7755102 ,  0.96907216,  0.43617021,  0.96842105],\n",
       "       [ 0.40206186,  0.69387755,  0.45360825,  0.23404255,  0.50526316],\n",
       "       [ 0.36082474,  0.63265306,  0.5257732 ,  0.07446809,  0.81052632],\n",
       "       [ 0.75257732,  0.30612245,  0.71134021,  0.93617021,  0.58947368],\n",
       "       [ 0.98969072,  0.58163265,  0.60824742,  0.65957447,  0.88421053],\n",
       "       [ 0.94845361,  0.31632653,  0.21649485,  0.93617021,  0.01052632],\n",
       "       [ 0.5257732 ,  0.09183673,  0.94845361,  0.61702128,  0.42105263],\n",
       "       [ 0.        ,  0.15306122,  0.3814433 ,  0.67021277,  0.08421053],\n",
       "       [ 0.87628866,  0.64285714,  1.        ,  0.09574468,  0.98947368],\n",
       "       [ 0.68041237,  0.96938776,  0.95876289,  0.82978723,  0.14736842],\n",
       "       [ 0.29896907,  0.90816327,  0.62886598,  0.63829787,  0.42105263],\n",
       "       [ 0.09278351,  0.48979592,  0.87628866,  0.32978723,  0.52631579],\n",
       "       [ 0.2371134 ,  0.95918367,  0.79381443,  0.73404255,  0.17894737],\n",
       "       [ 0.7628866 ,  0.82653061,  0.72164948,  0.22340426,  0.95789474],\n",
       "       [ 0.58762887,  0.48979592,  0.77319588,  0.64893617,  0.58947368],\n",
       "       [ 0.27835052,  0.85714286,  0.4742268 ,  0.40425532,  0.64210526],\n",
       "       [ 0.46391753,  0.2244898 ,  0.05154639,  0.08510638,  0.62105263]])"
      ]
     },
     "execution_count": 24,
     "metadata": {},
     "output_type": "execute_result"
    }
   ],
   "source": [
    "from sklearn.preprocessing import MinMaxScaler\n",
    "MinMaxScaler().fit_transform(df)"
   ]
  },
  {
   "cell_type": "markdown",
   "metadata": {},
   "source": [
    "** Using your previously created DataFrame, use [df.columns = [...]](https://stackoverflow.com/questions/11346283/renaming-columns-in-pandas) to rename the pandas columns to be ['f1','f2','f3','f4','label']. Then perform a train/test split with scikitlearn.**"
   ]
  },
  {
   "cell_type": "code",
   "execution_count": 25,
   "metadata": {
    "collapsed": true
   },
   "outputs": [],
   "source": [
    "df.columns=['f1','f2','f3','f4','label']\n",
    "from sklearn.model_selection import train_test_split"
   ]
  },
  {
   "cell_type": "code",
   "execution_count": 26,
   "metadata": {
    "collapsed": true
   },
   "outputs": [],
   "source": [
    "X_train,X_test,y_train,y_test=train_test_split(df[['f1','f2','f3','f4']],df[['label']],test_size=0.3,random_state=20)"
   ]
  },
  {
   "cell_type": "code",
   "execution_count": 41,
   "metadata": {
    "collapsed": true
   },
   "outputs": [],
   "source": []
  },
  {
   "cell_type": "code",
   "execution_count": 42,
   "metadata": {
    "collapsed": true
   },
   "outputs": [],
   "source": []
  },
  {
   "cell_type": "markdown",
   "metadata": {},
   "source": [
    "# Great Job!"
   ]
  }
 ],
 "metadata": {
  "kernelspec": {
   "display_name": "Python 3",
   "language": "python",
   "name": "python3"
  },
  "language_info": {
   "codemirror_mode": {
    "name": "ipython",
    "version": 3
   },
   "file_extension": ".py",
   "mimetype": "text/x-python",
   "name": "python",
   "nbconvert_exporter": "python",
   "pygments_lexer": "ipython3",
   "version": "3.5.4"
  }
 },
 "nbformat": 4,
 "nbformat_minor": 2
}
