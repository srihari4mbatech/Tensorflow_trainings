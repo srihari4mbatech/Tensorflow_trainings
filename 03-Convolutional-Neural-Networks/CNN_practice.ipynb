{
 "cells": [
  {
   "cell_type": "markdown",
   "metadata": {},
   "source": [
    "##### Convolution Neural Networks Notes\n",
    "LeNet-5 Architecture was first used to classify MNIST Dataset. Yan LeCun Famously implemented in the 1998 paper.\n",
    "Various aspects in CNN Neural Network. </br>\n",
    "Input -> Feature Extraction -> Classification </br>\n",
    "\n",
    "Feature extraction, Subsampling and pooling </br>\n",
    "\n",
    "**what are Tensors?** Tensors are N-Dimensional Arrays.</br>\n",
    "Tensors make it very convenient to feed in sets of Images into our model - (I,H,W,C).Tensors are to store relevant information for the model in the format of N-dimensional array.\n",
    "\n",
    "**DNN :** Every Neuron in one layer is directly connected to every other neuron in next layer.\n",
    "**CNN :** Every Neuron in one layer is directly conneted to near by neuraon in next layer.</br>\n",
    "\n",
    "**Why CNN:** Most images are going to be atleast 256x256. However MNIST is 28x28. CNN also have advantage of Image processing. Pixels are nearby are much correlated to each other for image detection. Each CNN layer looks at an increasingly part of the image. By having connected units nearby also aids in invariance.CNN helps with regularizaiton, limiting the search of weights to the size of convolution. </br>\n",
    "\n",
    "Padding zeros around the image to fix the issue of not having neuron at the corner of the image. Edge detection filters. For Simplicity, we begin to describe and visualize these sets of neurons as blocks instead. </br>\n",
    "* 1xL\n",
    "* # of filters x # of Units.\n",
    "Filters are commonly visualized with grids. Stride Distance of 1 - speed of moving to nextfilters.</br> \n",
    "\n",
    "What is pooling and subsampling? </br>\n",
    "\n",
    "Pooling layers will subsample the input image, which reduces the memory use and computer load as well as reducing the number of parameters. </br>\n",
    "\n",
    "Dropout can be thought of as a form of regularizaiton to help prevent overfitting. During training units are randomly dropped along with their connectors. </br>\n",
    "\n",
    "Further reading is required on convolutional Neural Networks </br>\n",
    "\n",
    "\n",
    "\n"
   ]
  },
  {
   "cell_type": "code",
   "execution_count": null,
   "metadata": {
    "collapsed": true
   },
   "outputs": [],
   "source": []
  }
 ],
 "metadata": {
  "kernelspec": {
   "display_name": "Python 3",
   "language": "python",
   "name": "python3"
  },
  "language_info": {
   "codemirror_mode": {
    "name": "ipython",
    "version": 3
   },
   "file_extension": ".py",
   "mimetype": "text/x-python",
   "name": "python",
   "nbconvert_exporter": "python",
   "pygments_lexer": "ipython3",
   "version": "3.6.3"
  }
 },
 "nbformat": 4,
 "nbformat_minor": 2
}
